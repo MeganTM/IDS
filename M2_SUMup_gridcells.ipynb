{
 "cells": [
  {
   "cell_type": "markdown",
   "metadata": {},
   "source": [
    "# Get unique MERRA-2 grid cells at SUMup points"
   ]
  },
  {
   "cell_type": "code",
   "execution_count": 1,
   "metadata": {},
   "outputs": [],
   "source": [
    "import xarray as xr\n",
    "import numpy as np"
   ]
  },
  {
   "cell_type": "markdown",
   "metadata": {},
   "source": [
    "# SUMup coordinates"
   ]
  },
  {
   "cell_type": "code",
   "execution_count": 2,
   "metadata": {},
   "outputs": [],
   "source": [
    "sumup = xr.open_dataset(\"sumup_density_2020.nc\")\n",
    "su_lat = sumup['Latitude'].values\n",
    "su_lon = sumup['Longitude'].values\n",
    "su_elevation = sumup['Elevation'].values"
   ]
  },
  {
   "cell_type": "markdown",
   "metadata": {},
   "source": [
    "# SUMup filter function"
   ]
  },
  {
   "cell_type": "code",
   "execution_count": 3,
   "metadata": {},
   "outputs": [
    {
     "name": "stdout",
     "output_type": "stream",
     "text": [
      "1140\n"
     ]
    }
   ],
   "source": [
    "# Define Filter \n",
    "filter_func = np.vectorize(lambda lat, elevation: (lat > -91 and lat < 91 and elevation > 0))\n",
    "\n",
    "# Execute filter\n",
    "indices = filter_func(su_lat, su_elevation)\n",
    "lat = su_lat[indices]\n",
    "lon = su_lon[indices]\n",
    "\n",
    "# Merge vectors\n",
    "lat_lon = np.transpose(np.array([lat, lon]))\n",
    "\n",
    "# Find unique lat/lon pairs\n",
    "lat_lon = np.unique(lat_lon, axis=0)\n",
    "n_sumup = len(lat_lon)\n",
    "print(n_sumup)\n",
    "\n",
    "# Save Array\n",
    "np.savetxt(\"SUMup_Lat_Lon.txt\", lat_lon, header=\"SUMup observations: Latitude, Longitude (Both in Degrees)\")"
   ]
  },
  {
   "cell_type": "markdown",
   "metadata": {},
   "source": [
    "# Get closest MERRA-2 lat/lon at each SUMup grid cell, then determine the unique number of grid cells"
   ]
  },
  {
   "cell_type": "code",
   "execution_count": null,
   "metadata": {},
   "outputs": [],
   "source": [
    "# Get MERRA2 lat/lon at sumup\n",
    "M2 = xr.open_dataset(\"/pl/active/nasa_smb/Data/MERRA-2-P-E-yearly-1980-2017.nc\")\n",
    "M2_su = M2.sel(lon=lat_lon[:, 1], lat=lat_lon[:, 0], method='nearest')\n",
    "M2_su_lat = M2_su['lat'].values\n",
    "M2_su_lon = M2_su['lon'].values\n",
    "\n",
    "# Merge vectors\n",
    "M2_lat_lon = np.transpose(np.array([M2_su_lat, M2_su_lon]))\n",
    "\n",
    "# Find unique lat/lon pairs\n",
    "M2_lat_lon = np.unique(M2_lat_lon, axis=0)\n",
    "n_M2 = len(M2_lat_lon)\n",
    "print(n_M2)\n",
    "\n",
    "# Save Array\n",
    "np.savetxt(\"MERRA-2_Lat_Lon_SUMup.txt\", M2_lat_lon, header=\"Unique MERRA-2 grid cells at SUMup observations: Latitude, Longitude (Both in Degrees)\")"
   ]
  },
  {
   "cell_type": "code",
   "execution_count": null,
   "metadata": {},
   "outputs": [],
   "source": []
  }
 ],
 "metadata": {
  "kernelspec": {
   "display_name": "Python 3",
   "language": "python",
   "name": "python3"
  },
  "language_info": {
   "codemirror_mode": {
    "name": "ipython",
    "version": 3
   },
   "file_extension": ".py",
   "mimetype": "text/x-python",
   "name": "python",
   "nbconvert_exporter": "python",
   "pygments_lexer": "ipython3",
   "version": "3.7.6"
  }
 },
 "nbformat": 4,
 "nbformat_minor": 4
}
