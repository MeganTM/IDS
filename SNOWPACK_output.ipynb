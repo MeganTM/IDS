{
 "cells": [
  {
   "cell_type": "markdown",
   "metadata": {},
   "source": [
    "# Read SNOWPACK Output\n",
    "This script will read in output from SNOWPACK. This involves both .pro and .smet files."
   ]
  },
  {
   "cell_type": "code",
   "execution_count": 10,
   "metadata": {},
   "outputs": [],
   "source": [
    "import numpy as np\n",
    "import pandas as pd\n",
    "import datetime\n",
    "import matplotlib.pyplot as plt"
   ]
  },
  {
   "cell_type": "markdown",
   "metadata": {},
   "source": [
    "## .pro files"
   ]
  },
  {
   "cell_type": "code",
   "execution_count": 66,
   "metadata": {},
   "outputs": [],
   "source": [
    "# Function for reading in .pro file\n",
    "def read_pro(pro):\n",
    "    \n",
    "    f = open(pro,'r')\n",
    "    \n",
    "    # Header is 47 lines\n",
    "    for i in range(47):\n",
    "        header = f.readline()\n",
    "    \n",
    "    # After header, read in rest of data\n",
    "    data = f.readlines()\n",
    "    \n",
    "    # Create empty list for data\n",
    "    data_all = list()\n",
    "    \n",
    "    # Read lines in data\n",
    "    for line in data:\n",
    "        # Date\n",
    "        if line[0:4] == '0500':\n",
    "            d = line.split(',')[1].split('.')\n",
    "            timestamp = datetime.datetime(int(d[2][0:4]), int(d[1]), int(d[0]), int(d[2][5:7]))\n",
    "            data_dict = {} # Create dictionary of data for each timestamp\n",
    "            data_dict['Date'] = timestamp\n",
    "        # Depth (m)\n",
    "        elif line[0:4] == '0501':\n",
    "            depth_dict = list(map(float, line.split('\\n')[0].split(',')[2:]))\n",
    "            depth_dict = np.asarray(depth_dict)/100 # Convert from cm to m\n",
    "        # Density (kg/m^3)\n",
    "        elif line[0:4] == '0502':\n",
    "            density_dict = list(map(float, line.split('\\n')[0].split(',')[2:]))\n",
    "            density_dict = np.asarray(density_dict)\n",
    "        # Snow temperature (K)\n",
    "        elif line[0:4] == '0503': \n",
    "            temp_dict = list(map(float, line.split('\\n')[0].split(',')[2:]))\n",
    "            temp_dict = np.asarray(temp_dict)\n",
    "        # Water content (%)\n",
    "        elif line[0:4] == '0506':\n",
    "            water_dict = list(map(float, line.split('\\n')[0].split(',')[2:]))\n",
    "            water_dict = np.asarray(water_dict)  \n",
    "        # Ice content (%)\n",
    "        elif line[0:4] == '0515':\n",
    "            ice_dict = list(map(float, line.split('\\n')[0].split(',')[2:]))\n",
    "            ice_dict = np.asarray(ice_dict)\n",
    "        # Air content (%)\n",
    "        elif line[0:4] == '0516':\n",
    "            air_dict = list(map(float, line.split('\\n')[0].split(',')[2:]))\n",
    "            air_dict = np.asarray(air_dict)\n",
    "        \n",
    "        # Create firn profiles\n",
    "            data_dict['Depth'] = depth_dict[i:]\n",
    "            data_dict['Density'] = density_dict[i:]\n",
    "            data_dict['Tempearture'] = temp_dict[i:]\n",
    "            data_dict['Air'] = air_dict[i:]/100\n",
    "            data_dict['Water'] = water_dict[i:]/100\n",
    "            data_dict['Ice'] = ice_dict[i:]/100\n",
    "            data_dict['Density_total'] = density_dict\n",
    "            data_dict['Depth_total'] = depth_dict\n",
    "            \n",
    "            data_all.append(data_dict)\n",
    "        \n",
    "    return data_all\n",
    "    \n",
    "    f.close()"
   ]
  },
  {
   "cell_type": "code",
   "execution_count": 73,
   "metadata": {},
   "outputs": [],
   "source": [
    "VIR154 = read_pro('VIR154_TEST.pro')\n",
    "VIR203 = read_pro('VIR203_TEST.pro')"
   ]
  },
  {
   "cell_type": "code",
   "execution_count": 79,
   "metadata": {},
   "outputs": [
    {
     "data": {
      "text/plain": [
       "[<matplotlib.lines.Line2D at 0x7fdd45073c90>]"
      ]
     },
     "execution_count": 79,
     "metadata": {},
     "output_type": "execute_result"
    },
    {
     "data": {
      "image/png": "[encoded data removed]",
      "text/plain": [
       "<Figure size 216x432 with 1 Axes>"
      ]
     },
     "metadata": {
      "needs_background": "light"
     },
     "output_type": "display_data"
    }
   ],
   "source": [
    "figure = plt.figure(figsize=(3,6))\n",
    "plt.plot(VIR154[0]['Density'],VIR154[0]['Depth'])\n",
    "plt.plot(VIR154[-1]['Density'],VIR154[-1]['Depth'])"
   ]
  },
  {
   "cell_type": "code",
   "execution_count": 80,
   "metadata": {},
   "outputs": [
    {
     "data": {
      "text/plain": [
       "[<matplotlib.lines.Line2D at 0x7fdd450f11d0>]"
      ]
     },
     "execution_count": 80,
     "metadata": {},
     "output_type": "execute_result"
    },
    {
     "data": {
      "image/png": "[encoded data removed]",
      "text/plain": [
       "<Figure size 216x432 with 1 Axes>"
      ]
     },
     "metadata": {
      "needs_background": "light"
     },
     "output_type": "display_data"
    }
   ],
   "source": [
    "figure = plt.figure(figsize=(3,6))\n",
    "plt.plot(VIR203[0]['Density'],VIR203[0]['Depth'])\n",
    "plt.plot(VIR203[-1]['Density'],VIR203[-1]['Depth'])"
   ]
  }
 ],
 "metadata": {
  "kernelspec": {
   "display_name": "Python 3",
   "language": "python",
   "name": "python3"
  },
  "language_info": {
   "codemirror_mode": {
    "name": "ipython",
    "version": 3
   },
   "file_extension": ".py",
   "mimetype": "text/x-python",
   "name": "python",
   "nbconvert_exporter": "python",
   "pygments_lexer": "ipython3",
   "version": "3.7.6"
  }
 },
 "nbformat": 4,
 "nbformat_minor": 4
}
