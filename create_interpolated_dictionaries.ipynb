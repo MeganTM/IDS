{
 "cells": [
  {
   "cell_type": "markdown",
   "metadata": {},
   "source": [
    "# Create interpolated dictionaries\n",
    "\n",
    "#### Author: Megan Thompson-Munson\n",
    "#### Date created: 20 September 2021\n",
    "\n",
    "This script reads in the dictionaries of SUMup and SNOWPACK data and interpolates to a common vertical scale. The interpolated data is then saved in a dictionary as a pickle file.\n",
    "\n",
    "TO DO:\n",
    "- Add more comments\n",
    "- Add CFM capability\n",
    "- Move analysis part to new file"
   ]
  },
  {
   "cell_type": "code",
   "execution_count": 19,
   "metadata": {},
   "outputs": [],
   "source": [
    "icesheet = 'GrIS'"
   ]
  },
  {
   "cell_type": "code",
   "execution_count": 20,
   "metadata": {},
   "outputs": [],
   "source": [
    "# Import libraries\n",
    "import pickle\n",
    "import numpy as np\n",
    "import pandas as pd\n",
    "from datetime import datetime\n",
    "from scipy.interpolate import griddata"
   ]
  },
  {
   "cell_type": "code",
   "execution_count": 21,
   "metadata": {},
   "outputs": [],
   "source": [
    "data = pickle.load(open(icesheet+'_data.p','rb'))"
   ]
  },
  {
   "cell_type": "code",
   "execution_count": 22,
   "metadata": {},
   "outputs": [],
   "source": [
    "# List of dictionaries\n",
    "dict_list = []\n",
    "\n",
    "# Regrid observations and model output on logarithmic vertical scale\n",
    "for i in range(len(data)):\n",
    "\n",
    "    # Select SUMup and SNOWPACK keys\n",
    "    su = data[i]['SUMup']\n",
    "    sp = data[i]['SNOWPACK']\n",
    "    \n",
    "    # Define relevant variables\n",
    "    sp_depth = sp['Depth']\n",
    "    sp_density = sp['Density']\n",
    "    sp_air = sp['Air']\n",
    "    sp_water = sp['Water']\n",
    "    sp_ice = sp['Ice']\n",
    "    su_density = su['Density']\n",
    "    su_depth = su['Midpoint']\n",
    "    \n",
    "    # Many SUMup measurements are just single point, so just regrid datasets with n > 1\n",
    "    if len(su_density) > 1:\n",
    "        \n",
    "        # Interpolate modeled density onto observations\n",
    "        su_densityInt = su_density\n",
    "        sp_densityInt = griddata(sp_depth,sp_density,su_depth)\n",
    "        \n",
    "        # Filter out nans\n",
    "        nanfilter = (~np.isnan(su_densityInt)) & (~np.isnan(sp_densityInt))\n",
    "        su_densityFilt = su_densityInt[nanfilter]\n",
    "        sp_densityFilt = sp_densityInt[nanfilter]\n",
    "        \n",
    "        dictionaries = {'SNOWPACK':{'ID':sp['ID'],'Timestamp':sp['Timestamp'],\n",
    "                                    'Latitude':sp['Latitude'],'Longitude':sp['Longitude'],\n",
    "                                    'Elevation':sp['Elevation'],'Depth':su_depth,'Density':sp_densityFilt},\n",
    "                        'SUMup':{'CoreID':su['CoreID'],'Citation':su['Citation'],'Timestamp':su['Timestamp'],\n",
    "                                 'Latitude':su['Latitude'],'Longitude':su['Longitude'],\n",
    "                                 'Elevation':su['Elevation'],'Depth':su_depth,'Density':su_densityFilt}}\n",
    "\n",
    "        dict_list.append(dictionaries)"
   ]
  },
  {
   "cell_type": "code",
   "execution_count": 23,
   "metadata": {},
   "outputs": [],
   "source": [
    "pickle.dump(dict_list, open(icesheet+'_data_interpolated.p','wb'))"
   ]
  },
  {
   "cell_type": "code",
   "execution_count": null,
   "metadata": {},
   "outputs": [],
   "source": []
  },
  {
   "cell_type": "code",
   "execution_count": null,
   "metadata": {},
   "outputs": [],
   "source": []
  }
 ],
 "metadata": {
  "kernelspec": {
   "display_name": "snowpack",
   "language": "python",
   "name": "snowpack"
  },
  "language_info": {
   "codemirror_mode": {
    "name": "ipython",
    "version": 3
   },
   "file_extension": ".py",
   "mimetype": "text/x-python",
   "name": "python",
   "nbconvert_exporter": "python",
   "pygments_lexer": "ipython3",
   "version": "3.6.8"
  }
 },
 "nbformat": 4,
 "nbformat_minor": 4
}
